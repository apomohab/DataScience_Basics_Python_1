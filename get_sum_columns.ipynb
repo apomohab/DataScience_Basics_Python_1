{
 "cells": [
  {
   "cell_type": "markdown",
   "metadata": {},
   "source": [
    "## Pandas: Get sum of column values in a Dataframe 30-10-2020"
   ]
  },
  {
   "cell_type": "code",
   "execution_count": 4,
   "metadata": {},
   "outputs": [
    {
     "name": "stdout",
     "output_type": "stream",
     "text": [
      "    Name   Age   City  Score\n",
      "0  Ahmed  34.0  Saudi  155.0\n",
      "1   Amir  31.0   Oman  177.5\n",
      "2   Sara  16.0  Sudan   81.0\n",
      "3   Fahd  31.0  Dubai    NaN\n",
      "4  Amira   NaN  Egypt  144.0\n",
      "5   Said  35.0   Iraq  135.0\n",
      "6  Mohap  35.0  Tunis  111.0\n"
     ]
    }
   ],
   "source": [
    "import pandas as pd\n",
    "import numpy as np\n",
    "\n",
    "# List of Tuples\n",
    "students = [('Ahmed',    34,     'Saudi',  155),\n",
    "            ('Amir',    31,     'Oman',   177.5),\n",
    "            ('Sara',    16,     'Sudan',  81),\n",
    "            ('Fahd',   31,     'Dubai',   np.NaN),\n",
    "            ('Amira',   np.NaN, 'Egypt',   144),\n",
    "            ('Said', 35,     'Iraq',  135),\n",
    "            ('Mohap',   35,     'Tunis', 111) ]\n",
    "\n",
    "\n",
    "data = pd.DataFrame(students , columns=['Name' , 'Age' , 'City' , 'Score'])\n",
    "\n",
    "print(data)\n"
   ]
  },
  {
   "cell_type": "code",
   "execution_count": 6,
   "metadata": {},
   "outputs": [
    {
     "data": {
      "text/html": [
       "<div>\n",
       "<style scoped>\n",
       "    .dataframe tbody tr th:only-of-type {\n",
       "        vertical-align: middle;\n",
       "    }\n",
       "\n",
       "    .dataframe tbody tr th {\n",
       "        vertical-align: top;\n",
       "    }\n",
       "\n",
       "    .dataframe thead th {\n",
       "        text-align: right;\n",
       "    }\n",
       "</style>\n",
       "<table border=\"1\" class=\"dataframe\">\n",
       "  <thead>\n",
       "    <tr style=\"text-align: right;\">\n",
       "      <th></th>\n",
       "      <th>Name</th>\n",
       "      <th>Age</th>\n",
       "      <th>City</th>\n",
       "      <th>Score</th>\n",
       "    </tr>\n",
       "  </thead>\n",
       "  <tbody>\n",
       "    <tr>\n",
       "      <th>0</th>\n",
       "      <td>Ahmed</td>\n",
       "      <td>34.0</td>\n",
       "      <td>Saudi</td>\n",
       "      <td>155.0</td>\n",
       "    </tr>\n",
       "    <tr>\n",
       "      <th>1</th>\n",
       "      <td>Amir</td>\n",
       "      <td>31.0</td>\n",
       "      <td>Oman</td>\n",
       "      <td>177.5</td>\n",
       "    </tr>\n",
       "    <tr>\n",
       "      <th>2</th>\n",
       "      <td>Sara</td>\n",
       "      <td>16.0</td>\n",
       "      <td>Sudan</td>\n",
       "      <td>81.0</td>\n",
       "    </tr>\n",
       "    <tr>\n",
       "      <th>3</th>\n",
       "      <td>Fahd</td>\n",
       "      <td>31.0</td>\n",
       "      <td>Dubai</td>\n",
       "      <td>NaN</td>\n",
       "    </tr>\n",
       "    <tr>\n",
       "      <th>4</th>\n",
       "      <td>Amira</td>\n",
       "      <td>NaN</td>\n",
       "      <td>Egypt</td>\n",
       "      <td>144.0</td>\n",
       "    </tr>\n",
       "  </tbody>\n",
       "</table>\n",
       "</div>"
      ],
      "text/plain": [
       "    Name   Age   City  Score\n",
       "0  Ahmed  34.0  Saudi  155.0\n",
       "1   Amir  31.0   Oman  177.5\n",
       "2   Sara  16.0  Sudan   81.0\n",
       "3   Fahd  31.0  Dubai    NaN\n",
       "4  Amira   NaN  Egypt  144.0"
      ]
     },
     "execution_count": 6,
     "metadata": {},
     "output_type": "execute_result"
    }
   ],
   "source": [
    "data.head()"
   ]
  },
  {
   "cell_type": "code",
   "execution_count": 7,
   "metadata": {},
   "outputs": [
    {
     "name": "stdout",
     "output_type": "stream",
     "text": [
      "<class 'pandas.core.frame.DataFrame'>\n",
      "RangeIndex: 7 entries, 0 to 6\n",
      "Data columns (total 4 columns):\n",
      " #   Column  Non-Null Count  Dtype  \n",
      "---  ------  --------------  -----  \n",
      " 0   Name    7 non-null      object \n",
      " 1   Age     6 non-null      float64\n",
      " 2   City    7 non-null      object \n",
      " 3   Score   6 non-null      float64\n",
      "dtypes: float64(2), object(2)\n",
      "memory usage: 352.0+ bytes\n"
     ]
    }
   ],
   "source": [
    "data.info()"
   ]
  },
  {
   "cell_type": "code",
   "execution_count": 5,
   "metadata": {},
   "outputs": [
    {
     "data": {
      "text/plain": [
       "803.5"
      ]
     },
     "execution_count": 5,
     "metadata": {},
     "output_type": "execute_result"
    }
   ],
   "source": [
    "# Get total all values in column 'Score' of the DataFrame\n",
    "\n",
    "sum_score = data['Score'].sum()\n",
    "\n",
    "sum_score"
   ]
  },
  {
   "cell_type": "code",
   "execution_count": 9,
   "metadata": {},
   "outputs": [
    {
     "data": {
      "text/plain": [
       "803.5"
      ]
     },
     "execution_count": 9,
     "metadata": {},
     "output_type": "execute_result"
    }
   ],
   "source": [
    "#Get total sum used loc\n",
    "\n",
    "loc_sum = data.loc[:, 'Score'].sum()\n",
    "loc_sum"
   ]
  },
  {
   "cell_type": "code",
   "execution_count": 20,
   "metadata": {},
   "outputs": [
    {
     "data": {
      "text/plain": [
       "Score    803.5\n",
       "dtype: float64"
      ]
     },
     "execution_count": 20,
     "metadata": {},
     "output_type": "execute_result"
    }
   ],
   "source": [
    "#get the sum and type columns used by number \n",
    "\n",
    "column_number = 4\n",
    "\n",
    "total = data.iloc[:, column_number-1 : column_number ].sum()\n",
    "\n",
    "total"
   ]
  },
  {
   "cell_type": "code",
   "execution_count": 21,
   "metadata": {},
   "outputs": [
    {
     "data": {
      "text/plain": [
       "Score    413.5\n",
       "dtype: float64"
      ]
     },
     "execution_count": 21,
     "metadata": {},
     "output_type": "execute_result"
    }
   ],
   "source": [
    "#select the foor columns and get sum for first 3 values only .\n",
    "\n",
    "total = data.iloc[0:3 ,  3:4].sum()\n",
    "\n",
    "total"
   ]
  },
  {
   "cell_type": "code",
   "execution_count": 23,
   "metadata": {},
   "outputs": [
    {
     "data": {
      "text/plain": [
       "144.0"
      ]
     },
     "execution_count": 23,
     "metadata": {},
     "output_type": "execute_result"
    }
   ],
   "source": [
    "#how to get sum values used by conditions \n",
    "#get sum data (score) in city (egypt)\n",
    "\n",
    "total_egypt = data.loc[data['City'] == 'Egypt' , 'Score'].sum()\n",
    "\n",
    "total_egypt\n"
   ]
  }
 ],
 "metadata": {
  "kernelspec": {
   "display_name": "Python 3",
   "language": "python",
   "name": "python3"
  },
  "language_info": {
   "codemirror_mode": {
    "name": "ipython",
    "version": 3
   },
   "file_extension": ".py",
   "mimetype": "text/x-python",
   "name": "python",
   "nbconvert_exporter": "python",
   "pygments_lexer": "ipython3",
   "version": "3.8.5"
  }
 },
 "nbformat": 4,
 "nbformat_minor": 4
}
